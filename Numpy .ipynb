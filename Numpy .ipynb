{
 "cells": [
  {
   "cell_type": "code",
   "execution_count": 1,
   "id": "41e765d0",
   "metadata": {},
   "outputs": [],
   "source": [
    "import numpy as np"
   ]
  },
  {
   "cell_type": "markdown",
   "id": "9e3a8145",
   "metadata": {},
   "source": [
    "# create a rank 1 array //// 1D array"
   ]
  },
  {
   "cell_type": "code",
   "execution_count": 2,
   "id": "b164543c",
   "metadata": {},
   "outputs": [],
   "source": [
    "a=np.array([0,1,2])"
   ]
  },
  {
   "cell_type": "code",
   "execution_count": 3,
   "id": "9c607f31",
   "metadata": {},
   "outputs": [
    {
     "data": {
      "text/plain": [
       "array([0, 1, 2])"
      ]
     },
     "execution_count": 3,
     "metadata": {},
     "output_type": "execute_result"
    }
   ],
   "source": [
    "a"
   ]
  },
  {
   "cell_type": "code",
   "execution_count": 4,
   "id": "8a2d7be6",
   "metadata": {},
   "outputs": [
    {
     "name": "stdout",
     "output_type": "stream",
     "text": [
      "<class 'numpy.ndarray'>\n"
     ]
    }
   ],
   "source": [
    "print(type(a))"
   ]
  },
  {
   "cell_type": "code",
   "execution_count": 5,
   "id": "e11f9088",
   "metadata": {},
   "outputs": [
    {
     "name": "stdout",
     "output_type": "stream",
     "text": [
      "(3,)\n"
     ]
    }
   ],
   "source": [
    "#this will print the dimension of the array\n",
    "print(a.shape)"
   ]
  },
  {
   "cell_type": "code",
   "execution_count": 6,
   "id": "0e947606",
   "metadata": {},
   "outputs": [
    {
     "name": "stdout",
     "output_type": "stream",
     "text": [
      "0\n",
      "1\n",
      "2\n"
     ]
    }
   ],
   "source": [
    "print(a[0])\n",
    "print(a[1])\n",
    "print(a[2])"
   ]
  },
  {
   "cell_type": "code",
   "execution_count": 7,
   "id": "62cc5650",
   "metadata": {},
   "outputs": [],
   "source": [
    "# change an element of the array\n",
    "a[0]=5"
   ]
  },
  {
   "cell_type": "code",
   "execution_count": 8,
   "id": "84924137",
   "metadata": {},
   "outputs": [
    {
     "data": {
      "text/plain": [
       "array([5, 1, 2])"
      ]
     },
     "execution_count": 8,
     "metadata": {},
     "output_type": "execute_result"
    }
   ],
   "source": [
    "a"
   ]
  },
  {
   "cell_type": "markdown",
   "id": "d3a27589",
   "metadata": {},
   "source": [
    "# 2D array"
   ]
  },
  {
   "cell_type": "code",
   "execution_count": 9,
   "id": "02ad9494",
   "metadata": {},
   "outputs": [],
   "source": [
    "b=np.array([[1,2,3],[4,5,6]])"
   ]
  },
  {
   "cell_type": "code",
   "execution_count": 10,
   "id": "7b30c139",
   "metadata": {},
   "outputs": [
    {
     "data": {
      "text/plain": [
       "array([[1, 2, 3],\n",
       "       [4, 5, 6]])"
      ]
     },
     "execution_count": 10,
     "metadata": {},
     "output_type": "execute_result"
    }
   ],
   "source": [
    "b"
   ]
  },
  {
   "cell_type": "code",
   "execution_count": 11,
   "id": "646b70ce",
   "metadata": {},
   "outputs": [
    {
     "data": {
      "text/plain": [
       "(2, 3)"
      ]
     },
     "execution_count": 11,
     "metadata": {},
     "output_type": "execute_result"
    }
   ],
   "source": [
    "b.shape"
   ]
  },
  {
   "cell_type": "code",
   "execution_count": 12,
   "id": "cd744673",
   "metadata": {},
   "outputs": [
    {
     "data": {
      "text/plain": [
       "(1, 2, 3, 4, 5, 6)"
      ]
     },
     "execution_count": 12,
     "metadata": {},
     "output_type": "execute_result"
    }
   ],
   "source": [
    "b[0,0],b[0,1],b[0,2],b[1,0],b[1,1],b[1,2]"
   ]
  },
  {
   "cell_type": "code",
   "execution_count": 13,
   "id": "f0a1f66e",
   "metadata": {},
   "outputs": [
    {
     "name": "stdout",
     "output_type": "stream",
     "text": [
      "1 2 3 4 5 6\n",
      "1 2 3\n"
     ]
    }
   ],
   "source": [
    "print(b[0,0],b[0,1],b[0,2],b[1,0],b[1,1],b[1,2])\n",
    "print(b[0,0],b[0,1],b[0,2])"
   ]
  },
  {
   "cell_type": "markdown",
   "id": "147c2f2a",
   "metadata": {},
   "source": [
    "# Creating numpy array"
   ]
  },
  {
   "cell_type": "code",
   "execution_count": 14,
   "id": "23babe88",
   "metadata": {},
   "outputs": [
    {
     "data": {
      "text/plain": [
       "array([[0., 0., 0., 0.],\n",
       "       [0., 0., 0., 0.],\n",
       "       [0., 0., 0., 0.],\n",
       "       [0., 0., 0., 0.]])"
      ]
     },
     "execution_count": 14,
     "metadata": {},
     "output_type": "execute_result"
    }
   ],
   "source": [
    "# create a n*n array of all zeros\n",
    "a=np.zeros((4,4))\n",
    "a"
   ]
  },
  {
   "cell_type": "code",
   "execution_count": 15,
   "id": "b11401c2",
   "metadata": {},
   "outputs": [
    {
     "name": "stdout",
     "output_type": "stream",
     "text": [
      "[[0. 0. 0. 0.]\n",
      " [0. 0. 0. 0.]\n",
      " [0. 0. 0. 0.]\n",
      " [0. 0. 0. 0.]]\n"
     ]
    }
   ],
   "source": [
    "print(a)"
   ]
  },
  {
   "cell_type": "code",
   "execution_count": 16,
   "id": "6d92c242",
   "metadata": {},
   "outputs": [
    {
     "name": "stdout",
     "output_type": "stream",
     "text": [
      "[[1. 1.]\n",
      " [1. 1.]]\n"
     ]
    },
    {
     "data": {
      "text/plain": [
       "array([[1., 1., 1., 1.],\n",
       "       [1., 1., 1., 1.],\n",
       "       [1., 1., 1., 1.],\n",
       "       [1., 1., 1., 1.]])"
      ]
     },
     "execution_count": 16,
     "metadata": {},
     "output_type": "execute_result"
    }
   ],
   "source": [
    "# Create a 2*2,3*3 array of all ones\n",
    "a=np.ones((2,2))\n",
    "print(a)\n",
    "b=np.ones((4,4))\n",
    "b\n"
   ]
  },
  {
   "cell_type": "code",
   "execution_count": 17,
   "id": "0ea2b4e7",
   "metadata": {},
   "outputs": [
    {
     "name": "stdout",
     "output_type": "stream",
     "text": [
      "[[7 7 7]\n",
      " [7 7 7]\n",
      " [7 7 7]]\n",
      "[[7 7]\n",
      " [7 7]]\n"
     ]
    }
   ],
   "source": [
    "# Create a 3*3, 2*2 constant array\n",
    "a=np.full((3,3),7)\n",
    "print(a)\n",
    "a=np.full((2,2),7)\n",
    "print(a)"
   ]
  },
  {
   "cell_type": "code",
   "execution_count": 18,
   "id": "6e7cc462",
   "metadata": {},
   "outputs": [
    {
     "name": "stdout",
     "output_type": "stream",
     "text": [
      "[[0.04931191 0.82348503 0.32125855]\n",
      " [0.1402778  0.48431887 0.40139905]\n",
      " [0.57954204 0.3234866  0.7835519 ]]\n"
     ]
    }
   ],
   "source": [
    "# Create a 3*3 array filled with random values\n",
    "d=np.random.random((3,3))\n",
    "print(d)"
   ]
  },
  {
   "cell_type": "code",
   "execution_count": 19,
   "id": "be19e6ea",
   "metadata": {},
   "outputs": [
    {
     "name": "stdout",
     "output_type": "stream",
     "text": [
      "[[1. 0. 0.]\n",
      " [0. 1. 0.]\n",
      " [0. 0. 1.]]\n"
     ]
    }
   ],
   "source": [
    "# create a 3 3 identity mtrix\n",
    "e=np.eye(3)\n",
    "print(e)"
   ]
  },
  {
   "cell_type": "code",
   "execution_count": 20,
   "id": "9175435e",
   "metadata": {},
   "outputs": [
    {
     "name": "stdout",
     "output_type": "stream",
     "text": [
      "[1 2 3 4 5]\n",
      "[1 2 3 4 5]\n"
     ]
    }
   ],
   "source": [
    "# Convert list to array\n",
    "l=[1,2,3,4,5]\n",
    "a=np.array(l)\n",
    "print(a)\n",
    "\n",
    "f = np.array([1,2,3,4,5])\n",
    "print(f)"
   ]
  },
  {
   "cell_type": "code",
   "execution_count": 21,
   "id": "35b11c86",
   "metadata": {},
   "outputs": [
    {
     "data": {
      "text/plain": [
       "array([ 0,  1,  2,  3,  4,  5,  6,  7,  8,  9, 10, 11, 12, 13, 14, 15, 16,\n",
       "       17, 18, 19])"
      ]
     },
     "execution_count": 21,
     "metadata": {},
     "output_type": "execute_result"
    }
   ],
   "source": [
    "# arange() will create arrays with regular increment values\n",
    "a=np.arange(20)\n",
    "a\n",
    "#print(a)"
   ]
  },
  {
   "cell_type": "code",
   "execution_count": 22,
   "id": "0f62695a",
   "metadata": {},
   "outputs": [
    {
     "data": {
      "text/plain": [
       "array([[0.+0.j, 1.+0.j, 2.+0.j],\n",
       "       [0.+0.j, 0.+0.j, 0.+0.j],\n",
       "       [1.+1.j, 3.+0.j, 2.+0.j]])"
      ]
     },
     "execution_count": 22,
     "metadata": {},
     "output_type": "execute_result"
    }
   ],
   "source": [
    "# array with mixing of tuple and list\n",
    "\n",
    "a=np.array([[0,1,2.0],[0,0,0],[1+1j,3,2]])\n",
    "a"
   ]
  },
  {
   "cell_type": "code",
   "execution_count": 23,
   "id": "d45a845c",
   "metadata": {},
   "outputs": [
    {
     "name": "stdout",
     "output_type": "stream",
     "text": [
      "[1. 2. 3. 4. 5. 6. 7.]\n",
      "[0 1 2 3 4 5 6 7]\n"
     ]
    },
    {
     "name": "stderr",
     "output_type": "stream",
     "text": [
      "C:\\Users\\WIN\\AppData\\Local\\Temp/ipykernel_11192/1086428437.py:2: DeprecationWarning: `np.float` is a deprecated alias for the builtin `float`. To silence this warning, use `float` by itself. Doing this will not modify any behavior and is safe. If you specifically wanted the numpy scalar type, use `np.float64` here.\n",
      "Deprecated in NumPy 1.20; for more details and guidance: https://numpy.org/devdocs/release/1.20.0-notes.html#deprecations\n",
      "  a=np.arange(1,8,dtype=np.float)\n",
      "C:\\Users\\WIN\\AppData\\Local\\Temp/ipykernel_11192/1086428437.py:5: DeprecationWarning: `np.int` is a deprecated alias for the builtin `int`. To silence this warning, use `int` by itself. Doing this will not modify any behavior and is safe. When replacing `np.int`, you may wish to use e.g. `np.int64` or `np.int32` to specify the precision. If you wish to review your current use, check the release note link for additional information.\n",
      "Deprecated in NumPy 1.20; for more details and guidance: https://numpy.org/devdocs/release/1.20.0-notes.html#deprecations\n",
      "  a=np.arange(8,dtype=np.int)\n"
     ]
    }
   ],
   "source": [
    "# create an array of range with float data type\n",
    "a=np.arange(1,8,dtype=np.float)\n",
    "print(a)\n",
    "\n",
    "a=np.arange(8,dtype=np.int)\n",
    "print(a)\n"
   ]
  },
  {
   "cell_type": "markdown",
   "id": "688e777e",
   "metadata": {},
   "source": [
    "# linspace() will create arrays with a specified number of items which are spaced equally between the specified beginning and ending values"
   ]
  },
  {
   "cell_type": "code",
   "execution_count": 24,
   "id": "72b6ef24",
   "metadata": {},
   "outputs": [
    {
     "data": {
      "text/plain": [
       "array([2. , 2.5, 3. , 3.5, 4. ])"
      ]
     },
     "execution_count": 24,
     "metadata": {},
     "output_type": "execute_result"
    }
   ],
   "source": [
    "a=np.linspace(2.,4.,5)\n",
    "a"
   ]
  },
  {
   "cell_type": "markdown",
   "id": "8e83bc66",
   "metadata": {},
   "source": [
    "# indices() create a set of arrays stacked as a one higher dimensional array , one per dimension with each reporesnting variation in that variation"
   ]
  },
  {
   "cell_type": "code",
   "execution_count": 25,
   "id": "1285afff",
   "metadata": {},
   "outputs": [
    {
     "name": "stdout",
     "output_type": "stream",
     "text": [
      "[[[0 0]\n",
      "  [1 1]]\n",
      "\n",
      " [[0 1]\n",
      "  [0 1]]]\n",
      "[[[0 0 0]\n",
      "  [1 1 1]\n",
      "  [2 2 2]]\n",
      "\n",
      " [[0 1 2]\n",
      "  [0 1 2]\n",
      "  [0 1 2]]]\n",
      "[[[0 0 0 0]\n",
      "  [1 1 1 1]\n",
      "  [2 2 2 2]\n",
      "  [3 3 3 3]]\n",
      "\n",
      " [[0 1 2 3]\n",
      "  [0 1 2 3]\n",
      "  [0 1 2 3]\n",
      "  [0 1 2 3]]]\n"
     ]
    }
   ],
   "source": [
    "a=np.indices((2,2))\n",
    "print(a)\n",
    "a=np.indices((3,3))\n",
    "print(a)\n",
    "a=np.indices((4,4))\n",
    "print(a)"
   ]
  },
  {
   "cell_type": "markdown",
   "id": "819377be",
   "metadata": {},
   "source": [
    "# Data types\n",
    "An array is a collection of items of the same data type and NumPy supports and provides \n",
    "built-in functions to construct arrays with optional arguments to explicitly specify \n",
    "required datatypes"
   ]
  },
  {
   "cell_type": "code",
   "execution_count": 30,
   "id": "83626fda",
   "metadata": {},
   "outputs": [
    {
     "name": "stdout",
     "output_type": "stream",
     "text": [
      "int32\n",
      "float64\n"
     ]
    }
   ],
   "source": [
    "x=np.array([0,1])\n",
    "y=np.array([2.0,3.0])\n",
    "print(x.dtype)\n",
    "print(y.dtype)"
   ]
  },
  {
   "cell_type": "code",
   "execution_count": 34,
   "id": "ec0f4807",
   "metadata": {},
   "outputs": [
    {
     "name": "stdout",
     "output_type": "stream",
     "text": [
      "int64\n"
     ]
    }
   ],
   "source": [
    "# Force a particular data type\n",
    "x=np.array([5,6],dtype=np.int64)\n",
    "print(x.dtype)"
   ]
  },
  {
   "cell_type": "markdown",
   "id": "fe3c2793",
   "metadata": {},
   "source": [
    "# Array Indexing\n",
    "Standard Python x[obj] syntax can be \n",
    "used to index NumPy array, where x is the array and obj is the selection.\n",
    "There are three kinds of indexing available:\n",
    "•\t Field access\n",
    "•\t Basic slicing\n",
    "•\t Advanced indexing"
   ]
  },
  {
   "cell_type": "markdown",
   "id": "5e4f3621",
   "metadata": {},
   "source": [
    "# Field Access\n",
    "If the ndarray object is a structured array, the fields of the array can be accessed by \n",
    "indexing the array with strings, dictionary like. Indexing x[‘field-name’] returns a new \n",
    "view to the array, which is of the same shape as x, except when the field is a subarray, but \n",
    "of data type x.dtype[‘field-name’] and contains only the part of the data in the specified \n",
    "field"
   ]
  },
  {
   "cell_type": "code",
   "execution_count": 36,
   "id": "de5b73a4",
   "metadata": {},
   "outputs": [
    {
     "name": "stdout",
     "output_type": "stream",
     "text": [
      "[[(0, [[0., 0., 0.], [0., 0., 0.], [0., 0., 0.]])\n",
      "  (0, [[0., 0., 0.], [0., 0., 0.], [0., 0., 0.]])\n",
      "  (0, [[0., 0., 0.], [0., 0., 0.], [0., 0., 0.]])]\n",
      " [(0, [[0., 0., 0.], [0., 0., 0.], [0., 0., 0.]])\n",
      "  (0, [[0., 0., 0.], [0., 0., 0.], [0., 0., 0.]])\n",
      "  (0, [[0., 0., 0.], [0., 0., 0.], [0., 0., 0.]])]\n",
      " [(0, [[0., 0., 0.], [0., 0., 0.], [0., 0., 0.]])\n",
      "  (0, [[0., 0., 0.], [0., 0., 0.], [0., 0., 0.]])\n",
      "  (0, [[0., 0., 0.], [0., 0., 0.], [0., 0., 0.]])]]\n"
     ]
    }
   ],
   "source": [
    "x=np.zeros((3,3),dtype=[('a',np.int32),('b',np.float64,(3,3))])\n",
    "print(x)"
   ]
  },
  {
   "cell_type": "code",
   "execution_count": 39,
   "id": "548d676e",
   "metadata": {},
   "outputs": [
    {
     "name": "stdout",
     "output_type": "stream",
     "text": [
      "x['a'].shape: (3, 3)\n",
      "x['a'].dtype: int32\n",
      "x['b'].shape: (3, 3, 3, 3)\n",
      "x['b'].shape: float64\n"
     ]
    }
   ],
   "source": [
    "print(\"x['a'].shape:\",x['a'].shape)\n",
    "print(\"x['a'].dtype:\",x['a'].dtype)\n",
    "print(\"x['b'].shape:\",x['b'].shape)\n",
    "print(\"x['b'].shape:\",x['b'].dtype)"
   ]
  },
  {
   "cell_type": "markdown",
   "id": "9c31a5db",
   "metadata": {},
   "source": [
    "# Basic Slicing\n",
    "NumPy arrays can be sliced, similar to lists. You must specify a slice for each dimension of \n",
    "the array as the arrays may be multidimensional.\n",
    "The basic slice syntax is i: j: k, where i is the starting index, j is the stopping index, \n",
    "and k is the step and k is not equal to 0. "
   ]
  },
  {
   "cell_type": "code",
   "execution_count": 42,
   "id": "26e63ade",
   "metadata": {},
   "outputs": [
    {
     "data": {
      "text/plain": [
       "array([6, 7, 8, 9])"
      ]
     },
     "execution_count": 42,
     "metadata": {},
     "output_type": "execute_result"
    }
   ],
   "source": [
    "x=np.array([5,6,7,8,9])\n",
    "x[1:7]\n"
   ]
  },
  {
   "cell_type": "code",
   "execution_count": 45,
   "id": "2957a47c",
   "metadata": {},
   "outputs": [
    {
     "data": {
      "text/plain": [
       "array([6, 9])"
      ]
     },
     "execution_count": 45,
     "metadata": {},
     "output_type": "execute_result"
    }
   ],
   "source": [
    "x[1:7:2]\n",
    "x[1:7:3]"
   ]
  },
  {
   "cell_type": "code",
   "execution_count": 49,
   "id": "45655542",
   "metadata": {},
   "outputs": [
    {
     "name": "stdout",
     "output_type": "stream",
     "text": [
      "[7 8 9]\n"
     ]
    },
    {
     "data": {
      "text/plain": [
       "array([5, 6])"
      ]
     },
     "execution_count": 49,
     "metadata": {},
     "output_type": "execute_result"
    }
   ],
   "source": [
    "print(x[2:])\n",
    "x[:2]"
   ]
  },
  {
   "cell_type": "code",
   "execution_count": 54,
   "id": "6f00fae5",
   "metadata": {},
   "outputs": [
    {
     "data": {
      "text/plain": [
       "array([8, 9])"
      ]
     },
     "execution_count": 54,
     "metadata": {},
     "output_type": "execute_result"
    }
   ],
   "source": [
    "x[-2:5:1]"
   ]
  },
  {
   "cell_type": "code",
   "execution_count": 53,
   "id": "2cd87fd8",
   "metadata": {},
   "outputs": [
    {
     "data": {
      "text/plain": [
       "array([9, 8, 7])"
      ]
     },
     "execution_count": 53,
     "metadata": {},
     "output_type": "execute_result"
    }
   ],
   "source": [
    "x[-1:1:-1]"
   ]
  },
  {
   "cell_type": "code",
   "execution_count": 65,
   "id": "d9b34dad",
   "metadata": {},
   "outputs": [
    {
     "data": {
      "text/plain": [
       "array([[[1],\n",
       "        [2],\n",
       "        [3]],\n",
       "\n",
       "       [[4],\n",
       "        [5],\n",
       "        [6]]])"
      ]
     },
     "execution_count": 65,
     "metadata": {},
     "output_type": "execute_result"
    }
   ],
   "source": [
    "y=np.array([[[1],[2],[3]],[[4],[5],[6]]])\n",
    "y\n"
   ]
  },
  {
   "cell_type": "code",
   "execution_count": 66,
   "id": "83617c5a",
   "metadata": {},
   "outputs": [
    {
     "data": {
      "text/plain": [
       "array([[1, 2, 3],\n",
       "       [4, 5, 6]])"
      ]
     },
     "execution_count": 66,
     "metadata": {},
     "output_type": "execute_result"
    }
   ],
   "source": [
    "y[...,0]"
   ]
  },
  {
   "cell_type": "code",
   "execution_count": 56,
   "id": "a2efaa16",
   "metadata": {},
   "outputs": [
    {
     "name": "stdout",
     "output_type": "stream",
     "text": [
      "Shape of y: (2, 3, 1)\n"
     ]
    }
   ],
   "source": [
    "print(\"Shape of y:\",y.shape)"
   ]
  },
  {
   "cell_type": "code",
   "execution_count": 59,
   "id": "5cd9aed3",
   "metadata": {},
   "outputs": [
    {
     "data": {
      "text/plain": [
       "array([[[1, 1],\n",
       "        [2, 1],\n",
       "        [3, 1]],\n",
       "\n",
       "       [[4, 2],\n",
       "        [5, 2],\n",
       "        [6, 2]]])"
      ]
     },
     "execution_count": 59,
     "metadata": {},
     "output_type": "execute_result"
    }
   ],
   "source": [
    "y=np.array([[[1,1],[2,1],[3,1]],[[4,2],[5,2],[6,2]]])\n",
    "y"
   ]
  },
  {
   "cell_type": "code",
   "execution_count": 60,
   "id": "c6c7e711",
   "metadata": {},
   "outputs": [
    {
     "name": "stdout",
     "output_type": "stream",
     "text": [
      "Shape of y: (2, 3, 2)\n"
     ]
    }
   ],
   "source": [
    "print(\"Shape of y:\",y.shape)"
   ]
  },
  {
   "cell_type": "code",
   "execution_count": 61,
   "id": "dad0b8ae",
   "metadata": {},
   "outputs": [
    {
     "data": {
      "text/plain": [
       "array([[[4, 2],\n",
       "        [5, 2],\n",
       "        [6, 2]]])"
      ]
     },
     "execution_count": 61,
     "metadata": {},
     "output_type": "execute_result"
    }
   ],
   "source": [
    "y[1:3]"
   ]
  },
  {
   "cell_type": "code",
   "execution_count": 62,
   "id": "02d4d306",
   "metadata": {},
   "outputs": [
    {
     "data": {
      "text/plain": [
       "array([4, 2])"
      ]
     },
     "execution_count": 62,
     "metadata": {},
     "output_type": "execute_result"
    }
   ],
   "source": [
    "y[1][0]"
   ]
  },
  {
   "cell_type": "code",
   "execution_count": 63,
   "id": "909e2d36",
   "metadata": {},
   "outputs": [
    {
     "data": {
      "text/plain": [
       "array(5)"
      ]
     },
     "execution_count": 63,
     "metadata": {},
     "output_type": "execute_result"
    }
   ],
   "source": [
    "x[...,0]"
   ]
  },
  {
   "cell_type": "code",
   "execution_count": 64,
   "id": "a1f24dff",
   "metadata": {},
   "outputs": [
    {
     "data": {
      "text/plain": [
       "array([[1, 2, 3],\n",
       "       [4, 5, 6]])"
      ]
     },
     "execution_count": 64,
     "metadata": {},
     "output_type": "execute_result"
    }
   ],
   "source": [
    "y[...,0]"
   ]
  },
  {
   "cell_type": "markdown",
   "id": "926dd5a7",
   "metadata": {},
   "source": [
    "# Create a 2D array with shape 3,4 "
   ]
  },
  {
   "cell_type": "code",
   "execution_count": 67,
   "id": "0623a457",
   "metadata": {},
   "outputs": [
    {
     "data": {
      "text/plain": [
       "array([[ 5,  6,  7,  8],\n",
       "       [ 1,  2,  3,  4],\n",
       "       [ 9, 10, 11, 12]])"
      ]
     },
     "execution_count": 67,
     "metadata": {},
     "output_type": "execute_result"
    }
   ],
   "source": [
    "a=np.array([[5,6,7,8],[1,2,3,4],[9,10,11,12]])\n",
    "a"
   ]
  },
  {
   "cell_type": "code",
   "execution_count": 68,
   "id": "9eb11367",
   "metadata": {},
   "outputs": [
    {
     "name": "stdout",
     "output_type": "stream",
     "text": [
      "5 1 9\n"
     ]
    }
   ],
   "source": [
    "print(a[0][0],a[1][0],a[2][0])"
   ]
  },
  {
   "cell_type": "code",
   "execution_count": 71,
   "id": "9dd1a89a",
   "metadata": {},
   "outputs": [
    {
     "data": {
      "text/plain": [
       "array([[6, 7],\n",
       "       [2, 3]])"
      ]
     },
     "execution_count": 71,
     "metadata": {},
     "output_type": "execute_result"
    }
   ],
   "source": [
    "# Use slicing to pull out the subarray consisting of the first 2 rows\n",
    "# and columns 1 and 2; b is the following array of shape (2, 2)\n",
    "\n",
    "b=a[:2,1:3]\n",
    "b\n"
   ]
  },
  {
   "cell_type": "code",
   "execution_count": 72,
   "id": "f4f41744",
   "metadata": {},
   "outputs": [
    {
     "data": {
      "text/plain": [
       "(2, 2)"
      ]
     },
     "execution_count": 72,
     "metadata": {},
     "output_type": "execute_result"
    }
   ],
   "source": [
    "b.shape"
   ]
  },
  {
   "cell_type": "code",
   "execution_count": null,
   "id": "097a47c5",
   "metadata": {},
   "outputs": [],
   "source": [
    "#A slice of an array is a view into the same data, so modifying itwill modify the original array"
   ]
  },
  {
   "cell_type": "code",
   "execution_count": 74,
   "id": "188edcf9",
   "metadata": {},
   "outputs": [
    {
     "name": "stdout",
     "output_type": "stream",
     "text": [
      "77\n"
     ]
    },
    {
     "data": {
      "text/plain": [
       "array([[ 5, 77,  7,  8],\n",
       "       [ 1,  2,  3,  4],\n",
       "       [ 9, 10, 11, 12]])"
      ]
     },
     "execution_count": 74,
     "metadata": {},
     "output_type": "execute_result"
    }
   ],
   "source": [
    "print(a[0][1])\n",
    "b[0,0]=77\n",
    "a"
   ]
  },
  {
   "cell_type": "markdown",
   "id": "2970e32b",
   "metadata": {},
   "source": [
    "# Middle row Column array\n",
    " \n",
    " can be accessed in two ways. 1) Slices along with integer \n",
    "indexing will result in an arry of lower rank. 2) Using only slices will \n",
    "result in same rank array"
   ]
  },
  {
   "cell_type": "code",
   "execution_count": 77,
   "id": "77bf11aa",
   "metadata": {},
   "outputs": [
    {
     "name": "stdout",
     "output_type": "stream",
     "text": [
      "[1 2 3 4]\n",
      "(4,)\n"
     ]
    }
   ],
   "source": [
    "row1=a[1,:]\n",
    "print(row1)\n",
    "print(row1.shape)"
   ]
  },
  {
   "cell_type": "code",
   "execution_count": 78,
   "id": "418eabbb",
   "metadata": {},
   "outputs": [
    {
     "name": "stdout",
     "output_type": "stream",
     "text": [
      "[[1 2 3 4]]\n",
      "(1, 4)\n"
     ]
    }
   ],
   "source": [
    "row2=a[1:2]\n",
    "print(row2)\n",
    "print(row2.shape)"
   ]
  },
  {
   "cell_type": "code",
   "execution_count": 79,
   "id": "20657281",
   "metadata": {},
   "outputs": [
    {
     "name": "stdout",
     "output_type": "stream",
     "text": [
      "[77  2 10]\n",
      "(3,)\n"
     ]
    }
   ],
   "source": [
    "row1=a[:,1]\n",
    "print(row1)\n",
    "print(row1.shape)"
   ]
  },
  {
   "cell_type": "code",
   "execution_count": 80,
   "id": "09078ba9",
   "metadata": {},
   "outputs": [
    {
     "name": "stdout",
     "output_type": "stream",
     "text": [
      "[[77]\n",
      " [ 2]\n",
      " [10]]\n",
      "(3, 1)\n"
     ]
    }
   ],
   "source": [
    "row2=a[:,1:2]\n",
    "print(row2)\n",
    "print(row2.shape)"
   ]
  },
  {
   "cell_type": "markdown",
   "id": "54595aea",
   "metadata": {},
   "source": [
    "# Advanced Indexing\n",
    "Integer array indexing: Integer array indexing allows you to construct random arrays and \n",
    "other arrays."
   ]
  },
  {
   "cell_type": "code",
   "execution_count": 85,
   "id": "a4546c63",
   "metadata": {},
   "outputs": [
    {
     "data": {
      "text/plain": [
       "array([[1, 2],\n",
       "       [3, 4]])"
      ]
     },
     "execution_count": 85,
     "metadata": {},
     "output_type": "execute_result"
    }
   ],
   "source": [
    "a=np.array([[1,2],[3,4]])\n",
    "a"
   ]
  },
  {
   "cell_type": "code",
   "execution_count": 86,
   "id": "89344355",
   "metadata": {},
   "outputs": [
    {
     "name": "stdout",
     "output_type": "stream",
     "text": [
      "2 [0, 1]\n"
     ]
    }
   ],
   "source": [
    "print(a[0,1],[0,1])"
   ]
  },
  {
   "cell_type": "code",
   "execution_count": 87,
   "id": "46db868e",
   "metadata": {},
   "outputs": [
    {
     "name": "stdout",
     "output_type": "stream",
     "text": [
      "2 2\n"
     ]
    }
   ],
   "source": [
    "print(a[0,1],a[0,1])"
   ]
  },
  {
   "cell_type": "code",
   "execution_count": 99,
   "id": "36dc39cd",
   "metadata": {},
   "outputs": [
    {
     "name": "stdout",
     "output_type": "stream",
     "text": [
      "[1 4]\n",
      "[1 list([1, 1])]\n",
      "[1, 4]\n",
      "1 4\n",
      "[2 2]\n"
     ]
    },
    {
     "name": "stderr",
     "output_type": "stream",
     "text": [
      "C:\\Users\\WIN\\AppData\\Local\\Temp/ipykernel_11192/3442593253.py:2: VisibleDeprecationWarning: Creating an ndarray from ragged nested sequences (which is a list-or-tuple of lists-or-tuples-or ndarrays with different lengths or shapes) is deprecated. If you meant to do this, you must specify 'dtype=object' when creating the ndarray.\n",
      "  print(np.array([a[0,0],[1,1]]))\n"
     ]
    }
   ],
   "source": [
    "print(np.array([a[0,0],a[1,1]]))\n",
    "print(np.array([a[0,0],[1,1]]))\n",
    "print([a[0,0],a[1,1]])\n",
    "print(a[0,0],a[1,1])\n",
    "print(a[[0,0],[1,1]])"
   ]
  },
  {
   "cell_type": "markdown",
   "id": "e48b55f3",
   "metadata": {},
   "source": [
    "# Boolean Array indexing"
   ]
  },
  {
   "cell_type": "code",
   "execution_count": 107,
   "id": "a06a6fd2",
   "metadata": {},
   "outputs": [
    {
     "name": "stdout",
     "output_type": "stream",
     "text": [
      "[[False False]\n",
      " [False False]\n",
      " [False  True]]\n"
     ]
    }
   ],
   "source": [
    "a=np.array([[1,2],[3,4],[5,6]])\n",
    "b=np.array([[1,2],[3,4],[5,6]])\n",
    "\n",
    "print(b>5)"
   ]
  },
  {
   "cell_type": "code",
   "execution_count": 109,
   "id": "2496d8b5",
   "metadata": {},
   "outputs": [
    {
     "name": "stdout",
     "output_type": "stream",
     "text": [
      "[[False False]\n",
      " [ True  True]\n",
      " [ True  True]]\n"
     ]
    }
   ],
   "source": [
    "print(a>2)\n"
   ]
  },
  {
   "cell_type": "code",
   "execution_count": 108,
   "id": "22b15a39",
   "metadata": {},
   "outputs": [
    {
     "name": "stdout",
     "output_type": "stream",
     "text": [
      "[[False False]\n",
      " [False False]\n",
      " [False  True]]\n"
     ]
    }
   ],
   "source": [
    "print(b>5)"
   ]
  },
  {
   "cell_type": "code",
   "execution_count": 102,
   "id": "3793871b",
   "metadata": {},
   "outputs": [
    {
     "name": "stdout",
     "output_type": "stream",
     "text": [
      "[3 4 5 6]\n"
     ]
    }
   ],
   "source": [
    "print(a[a>2])"
   ]
  },
  {
   "cell_type": "markdown",
   "id": "70f6f935",
   "metadata": {},
   "source": [
    "# Array Math"
   ]
  },
  {
   "cell_type": "code",
   "execution_count": 110,
   "id": "47471cf3",
   "metadata": {},
   "outputs": [],
   "source": [
    "x=np.array([[1,2],[3,4],[5,6]])\n",
    "y=np.array([[7,8],[9,10],[11,12]])"
   ]
  },
  {
   "cell_type": "code",
   "execution_count": 111,
   "id": "798d0a73",
   "metadata": {},
   "outputs": [
    {
     "data": {
      "text/plain": [
       "array([[ 8, 10],\n",
       "       [12, 14],\n",
       "       [16, 18]])"
      ]
     },
     "execution_count": 111,
     "metadata": {},
     "output_type": "execute_result"
    }
   ],
   "source": [
    "x+y"
   ]
  },
  {
   "cell_type": "code",
   "execution_count": 112,
   "id": "325b6b21",
   "metadata": {},
   "outputs": [
    {
     "name": "stdout",
     "output_type": "stream",
     "text": [
      "[[ 8 10]\n",
      " [12 14]\n",
      " [16 18]]\n"
     ]
    }
   ],
   "source": [
    "print(np.add(x,y))"
   ]
  },
  {
   "cell_type": "code",
   "execution_count": 113,
   "id": "c17b3869",
   "metadata": {},
   "outputs": [
    {
     "data": {
      "text/plain": [
       "array([[-6, -6],\n",
       "       [-6, -6],\n",
       "       [-6, -6]])"
      ]
     },
     "execution_count": 113,
     "metadata": {},
     "output_type": "execute_result"
    }
   ],
   "source": [
    "x-y"
   ]
  },
  {
   "cell_type": "code",
   "execution_count": 114,
   "id": "5fc0afe4",
   "metadata": {},
   "outputs": [
    {
     "data": {
      "text/plain": [
       "array([[-6, -6],\n",
       "       [-6, -6],\n",
       "       [-6, -6]])"
      ]
     },
     "execution_count": 114,
     "metadata": {},
     "output_type": "execute_result"
    }
   ],
   "source": [
    "np.subtract(x,y)"
   ]
  },
  {
   "cell_type": "code",
   "execution_count": 115,
   "id": "2ea6c233",
   "metadata": {},
   "outputs": [
    {
     "data": {
      "text/plain": [
       "array([[ 7, 16],\n",
       "       [27, 40],\n",
       "       [55, 72]])"
      ]
     },
     "execution_count": 115,
     "metadata": {},
     "output_type": "execute_result"
    }
   ],
   "source": [
    "x*y"
   ]
  },
  {
   "cell_type": "code",
   "execution_count": 116,
   "id": "1c42f4d1",
   "metadata": {},
   "outputs": [
    {
     "data": {
      "text/plain": [
       "array([[ 7, 16],\n",
       "       [27, 40],\n",
       "       [55, 72]])"
      ]
     },
     "execution_count": 116,
     "metadata": {},
     "output_type": "execute_result"
    }
   ],
   "source": [
    "np.multiply(y,x)"
   ]
  },
  {
   "cell_type": "code",
   "execution_count": 117,
   "id": "0168aacd",
   "metadata": {},
   "outputs": [
    {
     "data": {
      "text/plain": [
       "array([[0.14285714, 0.25      ],\n",
       "       [0.33333333, 0.4       ],\n",
       "       [0.45454545, 0.5       ]])"
      ]
     },
     "execution_count": 117,
     "metadata": {},
     "output_type": "execute_result"
    }
   ],
   "source": [
    "x/y"
   ]
  },
  {
   "cell_type": "code",
   "execution_count": 118,
   "id": "c53fd9a5",
   "metadata": {},
   "outputs": [
    {
     "data": {
      "text/plain": [
       "array([[0.14285714, 0.25      ],\n",
       "       [0.33333333, 0.4       ],\n",
       "       [0.45454545, 0.5       ]])"
      ]
     },
     "execution_count": 118,
     "metadata": {},
     "output_type": "execute_result"
    }
   ],
   "source": [
    "np.divide(x,y)"
   ]
  },
  {
   "cell_type": "code",
   "execution_count": 120,
   "id": "582741eb",
   "metadata": {},
   "outputs": [
    {
     "data": {
      "text/plain": [
       "array([[1.        , 1.41421356],\n",
       "       [1.73205081, 2.        ],\n",
       "       [2.23606798, 2.44948974]])"
      ]
     },
     "execution_count": 120,
     "metadata": {},
     "output_type": "execute_result"
    }
   ],
   "source": [
    "np.sqrt(x)"
   ]
  },
  {
   "cell_type": "code",
   "execution_count": 122,
   "id": "301efc0e",
   "metadata": {},
   "outputs": [],
   "source": [
    "x=np.array([[1,2],[3,4]])\n",
    "y=np.array([[5,6],[7,8]])\n",
    "a=np.array([9,10])\n",
    "b=np.array([11,12])"
   ]
  },
  {
   "cell_type": "markdown",
   "id": "a0aaf35e",
   "metadata": {},
   "source": [
    "# Inner products of vectors"
   ]
  },
  {
   "cell_type": "code",
   "execution_count": 123,
   "id": "58bf6019",
   "metadata": {},
   "outputs": [
    {
     "data": {
      "text/plain": [
       "219"
      ]
     },
     "execution_count": 123,
     "metadata": {},
     "output_type": "execute_result"
    }
   ],
   "source": [
    "a.dot(b)"
   ]
  },
  {
   "cell_type": "code",
   "execution_count": 124,
   "id": "285621e7",
   "metadata": {},
   "outputs": [
    {
     "data": {
      "text/plain": [
       "219"
      ]
     },
     "execution_count": 124,
     "metadata": {},
     "output_type": "execute_result"
    }
   ],
   "source": [
    "np.dot(a,b)"
   ]
  },
  {
   "cell_type": "code",
   "execution_count": 125,
   "id": "da2610b0",
   "metadata": {},
   "outputs": [
    {
     "data": {
      "text/plain": [
       "array([ 9, 10])"
      ]
     },
     "execution_count": 125,
     "metadata": {},
     "output_type": "execute_result"
    }
   ],
   "source": [
    "a"
   ]
  },
  {
   "cell_type": "code",
   "execution_count": 126,
   "id": "5e1f90a5",
   "metadata": {},
   "outputs": [
    {
     "data": {
      "text/plain": [
       "array([11, 12])"
      ]
     },
     "execution_count": 126,
     "metadata": {},
     "output_type": "execute_result"
    }
   ],
   "source": [
    "b"
   ]
  },
  {
   "cell_type": "markdown",
   "id": "4f018956",
   "metadata": {},
   "source": [
    "# Matrix/vector product"
   ]
  },
  {
   "cell_type": "code",
   "execution_count": 127,
   "id": "7c8486dd",
   "metadata": {},
   "outputs": [
    {
     "data": {
      "text/plain": [
       "array([29, 67])"
      ]
     },
     "execution_count": 127,
     "metadata": {},
     "output_type": "execute_result"
    }
   ],
   "source": [
    "x.dot(a)"
   ]
  },
  {
   "cell_type": "code",
   "execution_count": 128,
   "id": "5238c8c9",
   "metadata": {},
   "outputs": [
    {
     "data": {
      "text/plain": [
       "array([29, 67])"
      ]
     },
     "execution_count": 128,
     "metadata": {},
     "output_type": "execute_result"
    }
   ],
   "source": [
    "np.dot(x,a)"
   ]
  },
  {
   "cell_type": "markdown",
   "id": "ebc22811",
   "metadata": {},
   "source": [
    "# Matrix/Matrix product"
   ]
  },
  {
   "cell_type": "code",
   "execution_count": 129,
   "id": "06130763",
   "metadata": {},
   "outputs": [
    {
     "data": {
      "text/plain": [
       "array([[19, 22],\n",
       "       [43, 50]])"
      ]
     },
     "execution_count": 129,
     "metadata": {},
     "output_type": "execute_result"
    }
   ],
   "source": [
    "x.dot(y)"
   ]
  },
  {
   "cell_type": "code",
   "execution_count": 130,
   "id": "2894c6a7",
   "metadata": {},
   "outputs": [
    {
     "data": {
      "text/plain": [
       "array([[19, 22],\n",
       "       [43, 50]])"
      ]
     },
     "execution_count": 130,
     "metadata": {},
     "output_type": "execute_result"
    }
   ],
   "source": [
    "np.dot(x,y)"
   ]
  },
  {
   "cell_type": "markdown",
   "id": "517930d0",
   "metadata": {},
   "source": [
    "# Sum function"
   ]
  },
  {
   "cell_type": "code",
   "execution_count": 131,
   "id": "7d1f8acd",
   "metadata": {},
   "outputs": [],
   "source": [
    "x=np.array([[1,2],[3,4]])"
   ]
  },
  {
   "cell_type": "code",
   "execution_count": 132,
   "id": "f4741f81",
   "metadata": {},
   "outputs": [
    {
     "name": "stdout",
     "output_type": "stream",
     "text": [
      "10\n"
     ]
    }
   ],
   "source": [
    "# Compute sum of all elements\n",
    "print(np.sum(x))\n"
   ]
  },
  {
   "cell_type": "code",
   "execution_count": 133,
   "id": "97e7c575",
   "metadata": {},
   "outputs": [
    {
     "name": "stdout",
     "output_type": "stream",
     "text": [
      "[4 6]\n"
     ]
    }
   ],
   "source": [
    "# Compute sum of each column\n",
    "print(np.sum(x, axis=0))\n"
   ]
  },
  {
   "cell_type": "code",
   "execution_count": 134,
   "id": "a9fecfe5",
   "metadata": {},
   "outputs": [
    {
     "name": "stdout",
     "output_type": "stream",
     "text": [
      "[3 7]\n"
     ]
    }
   ],
   "source": [
    "# Compute sum of each row\n",
    "print(np.sum(x, axis=1))"
   ]
  },
  {
   "cell_type": "markdown",
   "id": "b442ef6c",
   "metadata": {},
   "source": [
    "# Transpose Function"
   ]
  },
  {
   "cell_type": "code",
   "execution_count": 135,
   "id": "dc329272",
   "metadata": {},
   "outputs": [],
   "source": [
    "x=np.array([[1,2],[3,4]])"
   ]
  },
  {
   "cell_type": "code",
   "execution_count": 136,
   "id": "a3c4a62c",
   "metadata": {},
   "outputs": [
    {
     "data": {
      "text/plain": [
       "array([[1, 3],\n",
       "       [2, 4]])"
      ]
     },
     "execution_count": 136,
     "metadata": {},
     "output_type": "execute_result"
    }
   ],
   "source": [
    "x.T"
   ]
  },
  {
   "cell_type": "code",
   "execution_count": 137,
   "id": "e20a3aa4",
   "metadata": {},
   "outputs": [
    {
     "data": {
      "text/plain": [
       "array([[1, 3],\n",
       "       [2, 4]])"
      ]
     },
     "execution_count": 137,
     "metadata": {},
     "output_type": "execute_result"
    }
   ],
   "source": [
    "np.transpose(x)"
   ]
  },
  {
   "cell_type": "code",
   "execution_count": 138,
   "id": "162392d0",
   "metadata": {},
   "outputs": [],
   "source": [
    "c=np.array([1,2,3,4])"
   ]
  },
  {
   "cell_type": "code",
   "execution_count": 139,
   "id": "02075b7f",
   "metadata": {},
   "outputs": [
    {
     "data": {
      "text/plain": [
       "array([1, 2, 3, 4])"
      ]
     },
     "execution_count": 139,
     "metadata": {},
     "output_type": "execute_result"
    }
   ],
   "source": [
    "c.T"
   ]
  },
  {
   "cell_type": "markdown",
   "id": "23d43300",
   "metadata": {},
   "source": []
  },
  {
   "cell_type": "markdown",
   "id": "60df566d",
   "metadata": {},
   "source": [
    "# Broadcasting\n",
    "Broadcasting enables arithmetic operations to be performed between different shaped \n",
    "arrays"
   ]
  },
  {
   "cell_type": "code",
   "execution_count": 150,
   "id": "94dff998",
   "metadata": {},
   "outputs": [],
   "source": [
    "a=np.array([[1,2,3],[4,5,6],[7,8,9]])\n",
    "# create a vector\n",
    "v=np.array([1,0,1])\n",
    "# create an empty matrix with the same shape as a\n",
    "b=np.empty_like(a)\n",
    "c=np.empty_like(a)"
   ]
  },
  {
   "cell_type": "code",
   "execution_count": 151,
   "id": "714421ce",
   "metadata": {},
   "outputs": [
    {
     "data": {
      "text/plain": [
       "array([1, 2, 3])"
      ]
     },
     "execution_count": 151,
     "metadata": {},
     "output_type": "execute_result"
    }
   ],
   "source": [
    "a[0,:] # means row extract"
   ]
  },
  {
   "cell_type": "code",
   "execution_count": 152,
   "id": "78f68f6f",
   "metadata": {},
   "outputs": [
    {
     "data": {
      "text/plain": [
       "array([1, 4, 7])"
      ]
     },
     "execution_count": 152,
     "metadata": {},
     "output_type": "execute_result"
    }
   ],
   "source": [
    "a[:,0] # column extract"
   ]
  },
  {
   "cell_type": "code",
   "execution_count": 153,
   "id": "741cd9c2",
   "metadata": {},
   "outputs": [
    {
     "data": {
      "text/plain": [
       "array([[1, 2, 3],\n",
       "       [4, 5, 6],\n",
       "       [7, 8, 9]])"
      ]
     },
     "execution_count": 153,
     "metadata": {},
     "output_type": "execute_result"
    }
   ],
   "source": [
    "a[0 :]"
   ]
  },
  {
   "cell_type": "code",
   "execution_count": 154,
   "id": "a67da8a7",
   "metadata": {},
   "outputs": [
    {
     "data": {
      "text/plain": [
       "array([[ 2,  2,  4],\n",
       "       [ 5,  5,  7],\n",
       "       [ 8,  8, 10]])"
      ]
     },
     "execution_count": 154,
     "metadata": {},
     "output_type": "execute_result"
    }
   ],
   "source": [
    "#Nowq, adding the vector v to each row of the natrix a with an explicit loop\n",
    "for i in range(3):\n",
    "    b[i,:]=a[i,:]+v\n",
    "b"
   ]
  },
  {
   "cell_type": "code",
   "execution_count": 156,
   "id": "789daa28",
   "metadata": {},
   "outputs": [
    {
     "data": {
      "text/plain": [
       "array([[ 2,  3,  4],\n",
       "       [ 4,  5,  6],\n",
       "       [ 8,  9, 10]])"
      ]
     },
     "execution_count": 156,
     "metadata": {},
     "output_type": "execute_result"
    }
   ],
   "source": [
    "#Nowq, adding the vector v to each column of the natrix a with an explicit loop\n",
    "for i in range(3):\n",
    "    c[:,i]=a[:,i]+v\n",
    "c"
   ]
  },
  {
   "cell_type": "markdown",
   "id": "b6198c84",
   "metadata": {},
   "source": [
    "# Broadcasting for large matrix"
   ]
  },
  {
   "cell_type": "code",
   "execution_count": 157,
   "id": "0b650cc9",
   "metadata": {},
   "outputs": [
    {
     "data": {
      "text/plain": [
       "array([[1, 2, 3],\n",
       "       [4, 5, 6],\n",
       "       [7, 8, 9]])"
      ]
     },
     "execution_count": 157,
     "metadata": {},
     "output_type": "execute_result"
    }
   ],
   "source": [
    "a"
   ]
  },
  {
   "cell_type": "code",
   "execution_count": 159,
   "id": "f1f3a210",
   "metadata": {},
   "outputs": [
    {
     "data": {
      "text/plain": [
       "array([[1, 0, 1],\n",
       "       [1, 0, 1],\n",
       "       [1, 0, 1]])"
      ]
     },
     "execution_count": 159,
     "metadata": {},
     "output_type": "execute_result"
    }
   ],
   "source": [
    "# stack 3 copies of v on top of each other\n",
    "\n",
    "vv=np.tile(v,(3,1))\n",
    "vv"
   ]
  },
  {
   "cell_type": "code",
   "execution_count": 160,
   "id": "e337f06a",
   "metadata": {},
   "outputs": [
    {
     "data": {
      "text/plain": [
       "array([[ 2,  2,  4],\n",
       "       [ 5,  5,  7],\n",
       "       [ 8,  8, 10]])"
      ]
     },
     "execution_count": 160,
     "metadata": {},
     "output_type": "execute_result"
    }
   ],
   "source": [
    "b=a+vv\n",
    "b"
   ]
  },
  {
   "cell_type": "code",
   "execution_count": 161,
   "id": "b595dd3d",
   "metadata": {},
   "outputs": [
    {
     "data": {
      "text/plain": [
       "array([[1, 2, 3],\n",
       "       [4, 5, 6],\n",
       "       [7, 8, 9]])"
      ]
     },
     "execution_count": 161,
     "metadata": {},
     "output_type": "execute_result"
    }
   ],
   "source": [
    "#broadcasting using numpy\n",
    "a"
   ]
  },
  {
   "cell_type": "code",
   "execution_count": 162,
   "id": "36be82cb",
   "metadata": {},
   "outputs": [
    {
     "data": {
      "text/plain": [
       "array([1, 0, 1])"
      ]
     },
     "execution_count": 162,
     "metadata": {},
     "output_type": "execute_result"
    }
   ],
   "source": [
    "v"
   ]
  },
  {
   "cell_type": "code",
   "execution_count": 164,
   "id": "7eb94330",
   "metadata": {},
   "outputs": [
    {
     "data": {
      "text/plain": [
       "array([[1936482592, 1701978223, 1852994932],\n",
       "       [ 170812517,  540680311, 1634890337],\n",
       "       [1768710009,  539780459, 1885431923]])"
      ]
     },
     "execution_count": 164,
     "metadata": {},
     "output_type": "execute_result"
    }
   ],
   "source": [
    "d=np.empty_like(a)\n",
    "d"
   ]
  },
  {
   "cell_type": "code",
   "execution_count": 165,
   "id": "2e0b0588",
   "metadata": {},
   "outputs": [
    {
     "data": {
      "text/plain": [
       "array([[ 2,  2,  4],\n",
       "       [ 5,  5,  7],\n",
       "       [ 8,  8, 10]])"
      ]
     },
     "execution_count": 165,
     "metadata": {},
     "output_type": "execute_result"
    }
   ],
   "source": [
    "d=a+v\n",
    "d"
   ]
  },
  {
   "cell_type": "markdown",
   "id": "ac7d0f76",
   "metadata": {},
   "source": [
    "# Application of Broadcasting"
   ]
  },
  {
   "cell_type": "code",
   "execution_count": 166,
   "id": "4238d7f5",
   "metadata": {},
   "outputs": [],
   "source": [
    "# compute outer products of vector\n",
    "# v has shape 3\n",
    "v=np.array([1,2,3])\n",
    "# w has shape 2\n",
    "w=np.array([4,5])\n",
    "# To compute an outer product, we first reshape v to be a column\n",
    "# vector of shape (3, 1); we can then broadcast it against w to yield\n",
    "# an output of shape (3, 2), which is the outer product of v and w\n"
   ]
  },
  {
   "cell_type": "code",
   "execution_count": 167,
   "id": "3fc82a54",
   "metadata": {},
   "outputs": [],
   "source": [
    "v=np.reshape(v,(3,1))"
   ]
  },
  {
   "cell_type": "code",
   "execution_count": 168,
   "id": "056a2e3d",
   "metadata": {},
   "outputs": [
    {
     "data": {
      "text/plain": [
       "array([[1],\n",
       "       [2],\n",
       "       [3]])"
      ]
     },
     "execution_count": 168,
     "metadata": {},
     "output_type": "execute_result"
    }
   ],
   "source": [
    "v"
   ]
  },
  {
   "cell_type": "code",
   "execution_count": 169,
   "id": "d1ac6785",
   "metadata": {},
   "outputs": [
    {
     "data": {
      "text/plain": [
       "array([[ 4,  5],\n",
       "       [ 8, 10],\n",
       "       [12, 15]])"
      ]
     },
     "execution_count": 169,
     "metadata": {},
     "output_type": "execute_result"
    }
   ],
   "source": [
    "v*w"
   ]
  },
  {
   "cell_type": "markdown",
   "id": "78c84724",
   "metadata": {},
   "source": [
    "# Add a vector to each row of a matrix"
   ]
  },
  {
   "cell_type": "code",
   "execution_count": 171,
   "id": "b09325ab",
   "metadata": {},
   "outputs": [],
   "source": [
    "x=np.array([[1,2,3],[4,5,6]])"
   ]
  },
  {
   "cell_type": "code",
   "execution_count": 173,
   "id": "fed2861b",
   "metadata": {},
   "outputs": [],
   "source": [
    "v=np.reshape(v,(1,3))"
   ]
  },
  {
   "cell_type": "code",
   "execution_count": 174,
   "id": "f40eae90",
   "metadata": {},
   "outputs": [
    {
     "data": {
      "text/plain": [
       "array([[2, 4, 6],\n",
       "       [5, 7, 9]])"
      ]
     },
     "execution_count": 174,
     "metadata": {},
     "output_type": "execute_result"
    }
   ],
   "source": [
    "x+v"
   ]
  },
  {
   "cell_type": "markdown",
   "id": "18ad8b53",
   "metadata": {},
   "source": [
    "# Add a vector to each column of a matrix"
   ]
  },
  {
   "cell_type": "code",
   "execution_count": 175,
   "id": "deba1494",
   "metadata": {},
   "outputs": [
    {
     "data": {
      "text/plain": [
       "array([[1, 2, 3],\n",
       "       [4, 5, 6]])"
      ]
     },
     "execution_count": 175,
     "metadata": {},
     "output_type": "execute_result"
    }
   ],
   "source": [
    "# x has shape (2, 3) and w has shape (2,).\n",
    "# If we transpose x then it has shape (3, 2) and can be broadcast\n",
    "# against w to yield a result of shape (3, 2); transposing this result\n",
    "# yields the final result of shape (2, 3) which is the matrix x with\n",
    "# the vector w added to each column\n",
    "x"
   ]
  },
  {
   "cell_type": "code",
   "execution_count": 181,
   "id": "f18e787d",
   "metadata": {},
   "outputs": [],
   "source": [
    "e=(x.T+w)"
   ]
  },
  {
   "cell_type": "code",
   "execution_count": 182,
   "id": "6d1650e1",
   "metadata": {},
   "outputs": [
    {
     "data": {
      "text/plain": [
       "array([[ 5,  6,  7],\n",
       "       [ 9, 10, 11]])"
      ]
     },
     "execution_count": 182,
     "metadata": {},
     "output_type": "execute_result"
    }
   ],
   "source": [
    "e.T"
   ]
  },
  {
   "cell_type": "code",
   "execution_count": 184,
   "id": "4537b195",
   "metadata": {},
   "outputs": [
    {
     "data": {
      "text/plain": [
       "array([[4],\n",
       "       [5]])"
      ]
     },
     "execution_count": 184,
     "metadata": {},
     "output_type": "execute_result"
    }
   ],
   "source": [
    "# Another solution is to reshape w to be a row vector of shape (2, 1);\n",
    "# we can then broadcast it directly against x to produce the same\n",
    "# output\n",
    "w=np.reshape(w,(2,1))\n",
    "w"
   ]
  },
  {
   "cell_type": "code",
   "execution_count": 185,
   "id": "f8d64034",
   "metadata": {},
   "outputs": [
    {
     "data": {
      "text/plain": [
       "array([[ 5,  6,  7],\n",
       "       [ 9, 10, 11]])"
      ]
     },
     "execution_count": 185,
     "metadata": {},
     "output_type": "execute_result"
    }
   ],
   "source": [
    "x+w"
   ]
  },
  {
   "cell_type": "markdown",
   "id": "2a1b7608",
   "metadata": {},
   "source": [
    "# Multiply a matrix by constant"
   ]
  },
  {
   "cell_type": "code",
   "execution_count": 186,
   "id": "69f2dd5b",
   "metadata": {},
   "outputs": [
    {
     "data": {
      "text/plain": [
       "array([[ 2,  4,  6],\n",
       "       [ 8, 10, 12]])"
      ]
     },
     "execution_count": 186,
     "metadata": {},
     "output_type": "execute_result"
    }
   ],
   "source": [
    "x*2"
   ]
  },
  {
   "cell_type": "code",
   "execution_count": null,
   "id": "6e948dbe",
   "metadata": {},
   "outputs": [],
   "source": []
  }
 ],
 "metadata": {
  "kernelspec": {
   "display_name": "Python 3 (ipykernel)",
   "language": "python",
   "name": "python3"
  },
  "language_info": {
   "codemirror_mode": {
    "name": "ipython",
    "version": 3
   },
   "file_extension": ".py",
   "mimetype": "text/x-python",
   "name": "python",
   "nbconvert_exporter": "python",
   "pygments_lexer": "ipython3",
   "version": "3.9.7"
  }
 },
 "nbformat": 4,
 "nbformat_minor": 5
}
